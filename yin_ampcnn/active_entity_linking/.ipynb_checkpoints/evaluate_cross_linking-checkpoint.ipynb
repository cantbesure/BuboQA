{
 "cells": [
  {
   "cell_type": "code",
   "execution_count": 1,
   "metadata": {
    "collapsed": false
   },
   "outputs": [],
   "source": [
    "import os\n",
    "import sys\n",
    "import argparse\n",
    "import pickle\n",
    "import math\n",
    "import unicodedata\n",
    "import pandas as pd\n",
    "import numpy as np\n",
    "\n",
    "from collections import defaultdict\n",
    "from fuzzywuzzy import fuzz\n",
    "from nltk.tokenize.treebank import TreebankWordTokenizer\n",
    "from nltk.corpus import stopwords"
   ]
  },
  {
   "cell_type": "code",
   "execution_count": 2,
   "metadata": {
    "collapsed": true
   },
   "outputs": [],
   "source": [
    "# arguments\n",
    "results_path = 'linking-results/'"
   ]
  },
  {
   "cell_type": "code",
   "execution_count": 3,
   "metadata": {
    "collapsed": false
   },
   "outputs": [
    {
     "name": "stdout",
     "output_type": "stream",
     "text": [
      "getting questions...\n",
      "107808\n",
      "('fb:m.0f3xg_', 'trump ocean club international hotel and tower', 'fb:symbols.namesake.named_after', 'who was the trump ocean club international hotel and tower named after')\n"
     ]
    }
   ],
   "source": [
    "def get_questions(datapath):\n",
    "    print(\"getting questions...\")\n",
    "    id2question = {}\n",
    "    with open(datapath, 'r') as f:\n",
    "        for line in f:\n",
    "            items = line.strip().split(\"\\t\")\n",
    "            lineid = items[0].strip()\n",
    "            sub = items[1].strip()\n",
    "            name = items[2].strip()\n",
    "            pred = items[3].strip()\n",
    "            obj = items[4].strip()\n",
    "            question = items[5].strip()\n",
    "            # print(\"{}   -   {}\".format(lineid, question))\n",
    "            id2question[lineid] = (sub, name, pred, question)\n",
    "    return id2question\n",
    "\n",
    "datapath = \"../data/SimpleQuestions_v2_augmented/all.txt\"\n",
    "id2question = get_questions(datapath)\n",
    "print(len(id2question))\n",
    "print(id2question['valid-1'])"
   ]
  },
  {
   "cell_type": "code",
   "execution_count": 15,
   "metadata": {
    "collapsed": true
   },
   "outputs": [],
   "source": [
    "def get_mids(fpath):\n",
    "    id2mids = defaultdict(list)\n",
    "    with open(fpath, 'r') as f:\n",
    "        for i, line in enumerate(f):\n",
    "            items = line.strip().split(\" %%%% \")\n",
    "            lineid = items[0]\n",
    "            cand_mids = items[1:]            \n",
    "            for mid_entry in cand_mids:\n",
    "                mid, mid_name, score = mid_entry.split(\"\\t\")\n",
    "                id2mids[lineid].append(mid)\n",
    "    return id2mids\n",
    "\n",
    "def get_retrieval_rate(id2mids, id2question, hits, idspath):\n",
    "    n_total = 0\n",
    "    n_retrieved = 0\n",
    "    lineids = open(idspath, 'r').read().splitlines()\n",
    "    for lineid in lineids:\n",
    "        n_total += 1\n",
    "        truth_mid, truth_name, truth_rel, question = id2question[lineid]\n",
    "        if not lineid in id2mids.keys():\n",
    "            continue\n",
    "        cand_mids = id2mids[lineid][:hits]\n",
    "        if truth_mid in cand_mids:\n",
    "            n_retrieved += 1\n",
    "    return (n_retrieved / n_total) * 100.0"
   ]
  },
  {
   "cell_type": "code",
   "execution_count": 17,
   "metadata": {
    "collapsed": false
   },
   "outputs": [
    {
     "ename": "TypeError",
     "evalue": "get_mids() takes 1 positional argument but 2 were given",
     "output_type": "error",
     "traceback": [
      "\u001b[0;31m---------------------------------------------------------------------------\u001b[0m",
      "\u001b[0;31mTypeError\u001b[0m                                 Traceback (most recent call last)",
      "\u001b[0;32m<ipython-input-17-7511f2ce63e4>\u001b[0m in \u001b[0;36m<module>\u001b[0;34m()\u001b[0m\n\u001b[1;32m      5\u001b[0m         \u001b[0mfpath\u001b[0m \u001b[0;34m=\u001b[0m \u001b[0mresults_path\u001b[0m \u001b[0;34m+\u001b[0m \u001b[0;34m\"{}-h100.txt\"\u001b[0m\u001b[0;34m.\u001b[0m\u001b[0mformat\u001b[0m\u001b[0;34m(\u001b[0m\u001b[0mdataset\u001b[0m\u001b[0;34m)\u001b[0m\u001b[0;34m\u001b[0m\u001b[0m\n\u001b[1;32m      6\u001b[0m         \u001b[0midspath\u001b[0m \u001b[0;34m=\u001b[0m \u001b[0;34m'../data/SimpleQuestions_v2_augmented/{}_lineids.txt'\u001b[0m\u001b[0;34m.\u001b[0m\u001b[0mformat\u001b[0m\u001b[0;34m(\u001b[0m\u001b[0mdataset\u001b[0m\u001b[0;34m)\u001b[0m\u001b[0;34m\u001b[0m\u001b[0m\n\u001b[0;32m----> 7\u001b[0;31m         \u001b[0mid2mids\u001b[0m \u001b[0;34m=\u001b[0m \u001b[0mget_mids\u001b[0m\u001b[0;34m(\u001b[0m\u001b[0mfpath\u001b[0m\u001b[0;34m,\u001b[0m \u001b[0midspath\u001b[0m\u001b[0;34m)\u001b[0m\u001b[0;34m\u001b[0m\u001b[0m\n\u001b[0m\u001b[1;32m      8\u001b[0m         \u001b[0mretrieval\u001b[0m \u001b[0;34m=\u001b[0m \u001b[0mget_retrieval_rate\u001b[0m\u001b[0;34m(\u001b[0m\u001b[0mid2mids\u001b[0m\u001b[0;34m,\u001b[0m \u001b[0mid2question\u001b[0m\u001b[0;34m,\u001b[0m \u001b[0mhit\u001b[0m\u001b[0;34m,\u001b[0m \u001b[0midspath\u001b[0m\u001b[0;34m)\u001b[0m\u001b[0;34m\u001b[0m\u001b[0m\n\u001b[1;32m      9\u001b[0m         \u001b[0mprint\u001b[0m\u001b[0;34m(\u001b[0m\u001b[0;34m\"data: {}, hits: {}, retrieval: {}\"\u001b[0m\u001b[0;34m.\u001b[0m\u001b[0mformat\u001b[0m\u001b[0;34m(\u001b[0m\u001b[0mdataset\u001b[0m\u001b[0;34m,\u001b[0m \u001b[0mhit\u001b[0m\u001b[0;34m,\u001b[0m \u001b[0mretrieval\u001b[0m\u001b[0;34m)\u001b[0m\u001b[0;34m)\u001b[0m\u001b[0;34m\u001b[0m\u001b[0m\n",
      "\u001b[0;31mTypeError\u001b[0m: get_mids() takes 1 positional argument but 2 were given"
     ]
    }
   ],
   "source": [
    "datasets = ['train', 'valid', 'test']\n",
    "hits = [5, 20, 50, 100]\n",
    "for dataset in datasets:\n",
    "    for hit in hits:\n",
    "        fpath = results_path + \"{}-h100.txt\".format(dataset)\n",
    "        idspath = '../data/SimpleQuestions_v2_augmented/{}_lineids.txt'.format(dataset)\n",
    "        id2mids = get_mids(fpath)\n",
    "        retrieval = get_retrieval_rate(id2mids, id2question, hit, idspath)\n",
    "        print(\"data: {}, hits: {}, retrieval: {}\".format(dataset, hit, retrieval))"
   ]
  },
  {
   "cell_type": "code",
   "execution_count": null,
   "metadata": {
    "collapsed": true
   },
   "outputs": [],
   "source": []
  }
 ],
 "metadata": {
  "kernelspec": {
   "display_name": "Python 3",
   "language": "python",
   "name": "python3"
  },
  "language_info": {
   "codemirror_mode": {
    "name": "ipython",
    "version": 3
   },
   "file_extension": ".py",
   "mimetype": "text/x-python",
   "name": "python",
   "nbconvert_exporter": "python",
   "pygments_lexer": "ipython3",
   "version": "3.6.0"
  }
 },
 "nbformat": 4,
 "nbformat_minor": 2
}
