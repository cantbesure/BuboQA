{
 "cells": [
  {
   "cell_type": "code",
   "execution_count": 29,
   "metadata": {
    "collapsed": false
   },
   "outputs": [],
   "source": [
    "from nltk.corpus import stopwords\n",
    "\n",
    "stopwords = stopwords.words('english')"
   ]
  },
  {
   "cell_type": "code",
   "execution_count": 30,
   "metadata": {
    "collapsed": true
   },
   "outputs": [],
   "source": [
    "train_path = \"../data/SimpleQuestions_v2/annotated_fb_data_train.txt\"\n",
    "valid_path = \"../data/SimpleQuestions_v2/annotated_fb_data_valid.txt\""
   ]
  },
  {
   "cell_type": "code",
   "execution_count": 31,
   "metadata": {
    "collapsed": false
   },
   "outputs": [],
   "source": [
    "rels = [line.split(\"\\t\")[1] for line in open(train_path)]\n",
    "rels.extend( [line.split(\"\\t\")[1] for line in open(valid_path)] )\n",
    "rels = set(rels)"
   ]
  },
  {
   "cell_type": "code",
   "execution_count": 32,
   "metadata": {
    "collapsed": false
   },
   "outputs": [],
   "source": [
    "vocab = set()\n",
    "for rel in rels:\n",
    "    rel = rel.split(\"www.freebase.com/\")[1]\n",
    "    rel = rel.replace('/', ' ').replace('_', ' ')\n",
    "    words = rel.lower().split()\n",
    "    for word in words:\n",
    "        if word not in stopwords:\n",
    "            vocab.add(word)"
   ]
  },
  {
   "cell_type": "code",
   "execution_count": 33,
   "metadata": {
    "collapsed": false
   },
   "outputs": [],
   "source": [
    "outfile = open('rel_vocab.txt', 'w')\n",
    "for v in sorted(vocab):\n",
    "    outfile.write(v + \"\\n\")\n",
    "outfile.close()"
   ]
  },
  {
   "cell_type": "code",
   "execution_count": null,
   "metadata": {
    "collapsed": true
   },
   "outputs": [],
   "source": []
  }
 ],
 "metadata": {
  "kernelspec": {
   "display_name": "Python 3",
   "language": "python",
   "name": "python3"
  },
  "language_info": {
   "codemirror_mode": {
    "name": "ipython",
    "version": 3
   },
   "file_extension": ".py",
   "mimetype": "text/x-python",
   "name": "python",
   "nbconvert_exporter": "python",
   "pygments_lexer": "ipython3",
   "version": "3.6.0"
  }
 },
 "nbformat": 4,
 "nbformat_minor": 2
}
