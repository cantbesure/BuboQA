{
 "cells": [
  {
   "cell_type": "code",
   "execution_count": 203,
   "metadata": {
    "collapsed": true
   },
   "outputs": [],
   "source": [
    "import os\n",
    "import sys\n",
    "import argparse\n",
    "import pickle\n",
    "import math\n",
    "import unicodedata\n",
    "import pandas as pd\n",
    "import numpy as np\n",
    "import math\n",
    "\n",
    "%matplotlib inline\n",
    "\n",
    "import matplotlib\n",
    "import matplotlib.pyplot as plt\n",
    "\n",
    "from collections import defaultdict\n",
    "from fuzzywuzzy import fuzz\n",
    "from nltk.tokenize.treebank import TreebankWordTokenizer\n",
    "from nltk.corpus import stopwords\n",
    "from sklearn.linear_model import LogisticRegression\n",
    "from random import shuffle\n",
    "\n",
    "import pprint\n",
    "pp = pprint.PrettyPrinter(indent=4)"
   ]
  },
  {
   "cell_type": "code",
   "execution_count": 204,
   "metadata": {
    "collapsed": false
   },
   "outputs": [],
   "source": [
    "# read the lineids\n",
    "data_path = 'SimpleQuestions_v2_augmented/'\n",
    "train_lineids = open(os.path.join(data_path, \"train_lineids.txt\"), 'r').read().splitlines()\n",
    "valid_lineids = open(os.path.join(data_path, \"valid_lineids.txt\"), 'r').read().splitlines()\n",
    "test_lineids = open(os.path.join(data_path, \"test_lineids.txt\"), 'r').read().splitlines()"
   ]
  },
  {
   "cell_type": "code",
   "execution_count": 205,
   "metadata": {
    "collapsed": false
   },
   "outputs": [],
   "source": [
    "# paths\n",
    "ent_path = 'entity-linking-results/'\n",
    "train_ent_path = os.path.join(ent_path, \"train-h100.txt\")\n",
    "valid_ent_path = os.path.join(ent_path, \"valid-h100.txt\")\n",
    "test_ent_path = os.path.join(ent_path, \"test-h100.txt\")\n",
    "\n",
    "rel_path = 'relation-pred-results/'\n",
    "train_rel_path = os.path.join(rel_path, \"topk-retrieval-train-hits-5.txt\")\n",
    "valid_rel_path = os.path.join(rel_path, \"topk-retrieval-valid-hits-5.txt\")\n",
    "test_rel_path = os.path.join(rel_path, \"topk-retrieval-test-hits-5.txt\")"
   ]
  },
  {
   "cell_type": "code",
   "execution_count": 206,
   "metadata": {
    "collapsed": false
   },
   "outputs": [
    {
     "name": "stdout",
     "output_type": "stream",
     "text": [
      "getting questions...\n",
      "107808\n",
      "('fb:m.0f3xg_', 'trump ocean club international hotel and tower', 'fb:symbols.namesake.named_after', 'who was the trump ocean club international hotel and tower named after')\n"
     ]
    }
   ],
   "source": [
    "def get_questions(datapath):\n",
    "    print(\"getting questions...\")\n",
    "    id2question = {}\n",
    "    with open(datapath, 'r') as f:\n",
    "        for line in f:\n",
    "            items = line.strip().split(\"\\t\")\n",
    "            lineid = items[0].strip()\n",
    "            sub = items[1].strip()\n",
    "            name = items[2].strip()\n",
    "            pred = items[3].strip()\n",
    "            obj = items[4].strip()\n",
    "            question = items[5].strip()\n",
    "            # print(\"{}   -   {}\".format(lineid, question))\n",
    "            id2question[lineid] = (sub, name, pred, question)\n",
    "    return id2question\n",
    "\n",
    "id2question = get_questions(os.path.join(data_path, \"all.txt\"))\n",
    "print(len(id2question))\n",
    "print(id2question['valid-1'])"
   ]
  },
  {
   "cell_type": "code",
   "execution_count": 207,
   "metadata": {
    "collapsed": true
   },
   "outputs": [],
   "source": [
    "def get_mids(fpath, hits):\n",
    "    id2mids = defaultdict(list)\n",
    "    with open(fpath, 'r') as f:\n",
    "        for i, line in enumerate(f):\n",
    "            items = line.strip().split(\" %%%% \")\n",
    "            lineid = items[0]\n",
    "            cand_mids = items[1:][:hits]     \n",
    "            for mid_entry in cand_mids:\n",
    "                mid, mid_name, score = mid_entry.split(\"\\t\")\n",
    "                id2mids[lineid].append( (mid, mid_name, score) )\n",
    "    return id2mids\n",
    "\n",
    "def www2fb(in_str):\n",
    "    if in_str.startswith(\"www.freebase.com\"):\n",
    "        return 'fb:%s' % (in_str.split('www.freebase.com/')[-1].replace('/', '.'))\n",
    "    return in_str\n",
    "\n",
    "def get_rels(rel_resultpath, hits):\n",
    "    id2rels = {}\n",
    "    with open(rel_resultpath, 'r') as f:\n",
    "        for line in f:\n",
    "            items = line.strip().split(\" %%%% \")\n",
    "            lineid = items[0].strip()\n",
    "            rel = www2fb(items[1].strip())\n",
    "            label = items[2].strip()\n",
    "            score = items[3].strip()\n",
    "            # print(\"{}   -   {}\".format(lineid, rel))\n",
    "            if lineid in id2rels.keys():\n",
    "                if len(id2rels[lineid]) < hits:\n",
    "                    id2rels[lineid].append( (rel, label, score) )\n",
    "            else:\n",
    "                id2rels[lineid] = [(rel, label, score)]\n",
    "    return id2rels"
   ]
  },
  {
   "cell_type": "code",
   "execution_count": 208,
   "metadata": {
    "collapsed": false
   },
   "outputs": [
    {
     "name": "stdout",
     "output_type": "stream",
     "text": [
      "loading index from: ../indexes/reachability_2M.pkl\n"
     ]
    }
   ],
   "source": [
    "def get_index(index_path):\n",
    "    print(\"loading index from: {}\".format(index_path))\n",
    "    with open(index_path, 'rb') as f:\n",
    "        index = pickle.load(f)\n",
    "    return index\n",
    "\n",
    "# load up graph reachability index\n",
    "index_reachpath = \"../indexes/reachability_2M.pkl\"\n",
    "index_reach = get_index(index_reachpath)"
   ]
  },
  {
   "cell_type": "markdown",
   "metadata": {},
   "source": [
    "### Load up the reachability graph, i.e. what predicates exist for which MIDs"
   ]
  },
  {
   "cell_type": "code",
   "execution_count": 209,
   "metadata": {
    "collapsed": false
   },
   "outputs": [
    {
     "data": {
      "text/plain": [
       "{'fb:common.topic.notable_types',\n",
       " 'fb:people.person.gender',\n",
       " 'fb:people.person.profession'}"
      ]
     },
     "execution_count": 209,
     "metadata": {},
     "output_type": "execute_result"
    }
   ],
   "source": [
    "index_reach['fb:m.0n1vy1h']"
   ]
  },
  {
   "cell_type": "markdown",
   "metadata": {},
   "source": [
    "### Load up the predicted MIDs and relations for each question in train/valid/test set"
   ]
  },
  {
   "cell_type": "code",
   "execution_count": 210,
   "metadata": {
    "collapsed": false
   },
   "outputs": [],
   "source": [
    "# load up the linking, relation prediction results\n",
    "train_id2mids = get_mids(train_ent_path, hits=20)\n",
    "train_id2rels = get_rels(train_rel_path, hits=5)\n",
    "\n",
    "valid_id2mids = get_mids(valid_ent_path, hits=20)\n",
    "valid_id2rels = get_rels(valid_rel_path, hits=5)\n",
    "\n",
    "test_id2mids = get_mids(test_ent_path, hits=20)\n",
    "test_id2rels = get_rels(test_rel_path, hits=5)"
   ]
  },
  {
   "cell_type": "code",
   "execution_count": 211,
   "metadata": {
    "collapsed": false
   },
   "outputs": [
    {
     "data": {
      "text/plain": [
       "[('fb:m.0f3xg_', 'trump ocean club international hotel and tower', '1.0'),\n",
       " ('fb:m.031n7n', 'trump international hotel and tower', '0.86'),\n",
       " ('fb:m.08cbdd', 'trump international hotel and tower', '0.86'),\n",
       " ('fb:m.05d9c4', 'trump international hotel and tower', '0.86'),\n",
       " ('fb:m.07dwg4', 'trump international hotel and tower , las vegas', '0.75')]"
      ]
     },
     "execution_count": 211,
     "metadata": {},
     "output_type": "execute_result"
    }
   ],
   "source": [
    "valid_id2mids['valid-1']"
   ]
  },
  {
   "cell_type": "code",
   "execution_count": 212,
   "metadata": {
    "collapsed": false
   },
   "outputs": [
    {
     "data": {
      "text/plain": [
       "[('fb:symbols.namesake.named_after', '1', '-0.26024723052978516'),\n",
       " ('fb:aviation.aircraft_model.manufacturer', '0', '-2.970513343811035'),\n",
       " ('fb:award.award.presented_by', '0', '-3.0647497177124023'),\n",
       " ('fb:organization.organization.founders', '0', '-3.5357484817504883'),\n",
       " ('fb:time.event.instance_of_recurring_event', '0', '-4.868573188781738')]"
      ]
     },
     "execution_count": 212,
     "metadata": {},
     "output_type": "execute_result"
    }
   ],
   "source": [
    "valid_id2rels['valid-1']"
   ]
  },
  {
   "cell_type": "markdown",
   "metadata": {},
   "source": [
    "### For the validation set, do cross linking and check retrieval rates\n",
    "\n",
    "The retrieval rate is checked in total and also for top 1, 2, 3 cross-linked results. The results are sorted according to the combined score for each (mid, rel) pair\n",
    "\n",
    "combined score = entity linking score * relation prediction score"
   ]
  },
  {
   "cell_type": "code",
   "execution_count": 213,
   "metadata": {
    "collapsed": false
   },
   "outputs": [
    {
     "name": "stdout",
     "output_type": "stream",
     "text": [
      "line 0\n",
      "line 10000\n"
     ]
    }
   ],
   "source": [
    "lineids = valid_lineids\n",
    "id2mids = valid_id2mids\n",
    "id2rels = valid_id2rels\n",
    "\n",
    "id2answers = defaultdict(list)\n",
    "found, notfound_both, notfound_mid, notfound_rel = 0, 0, 0, 0\n",
    "retrieved, retrieved_top1, retrieved_top2, retrieved_top3 = 0, 0, 0, 0\n",
    "\n",
    "lineids_found1 = []\n",
    "lineids_found2 = []\n",
    "lineids_found3 = []\n",
    "\n",
    "# for every lineid \n",
    "for i, lineid in enumerate(lineids):\n",
    "    if i % 10000 == 0:\n",
    "        print(\"line {}\".format(i))\n",
    "    # sanity checks and get truth\n",
    "    if lineid not in id2mids.keys() and lineid not in id2rels.keys():\n",
    "        notfound_both += 1\n",
    "        continue\n",
    "    elif lineid not in id2mids.keys():\n",
    "        notfound_mid += 1\n",
    "        continue\n",
    "    elif lineid not in id2rels.keys():\n",
    "        notfound_rel += 1\n",
    "        continue\n",
    "    \n",
    "    found += 1\n",
    "    truth_mid, truth_name, truth_rel, question = id2question[lineid]        \n",
    "    # for every predicted mid for this lineid\n",
    "    mids = id2mids[lineid]\n",
    "    rels = id2rels[lineid]\n",
    "    for (mid, mid_name, mid_score) in mids:\n",
    "        # for every rel for this lineid\n",
    "        for (rel, rel_label, rel_log_score) in rels:\n",
    "            # if this (mid, rel) exists in FB\n",
    "            if rel in index_reach[mid]:\n",
    "                rel_score = math.exp(float(rel_log_score))\n",
    "                comb_score = float(mid_score) * rel_score\n",
    "                id2answers[lineid].append( (mid, rel, mid_name, mid_score, rel_score, comb_score) )\n",
    "            if mid == truth_mid and rel == truth_rel:\n",
    "                retrieved += 1\n",
    "    id2answers[lineid].sort(key=lambda t: t[5], reverse=True)\n",
    "    \n",
    "    if len(id2answers[lineid]) >= 1 and id2answers[lineid][0][0] == truth_mid and id2answers[lineid][0][1] == truth_rel:\n",
    "        retrieved_top1 += 1\n",
    "        retrieved_top2 += 1\n",
    "        retrieved_top3 += 1\n",
    "        lineids_found1.append(lineid)\n",
    "    elif len(id2answers[lineid]) >= 2 and id2answers[lineid][1][0] == truth_mid and id2answers[lineid][1][1] == truth_rel:\n",
    "        retrieved_top2 += 1\n",
    "        retrieved_top3 += 1\n",
    "        lineids_found2.append(lineid)\n",
    "    elif len(id2answers[lineid]) >= 3 and id2answers[lineid][2][0] == truth_mid and id2answers[lineid][2][1] == truth_rel:\n",
    "        retrieved_top3 += 1\n",
    "        lineids_found3.append(lineid)\n",
    "               "
   ]
  },
  {
   "cell_type": "code",
   "execution_count": 214,
   "metadata": {
    "collapsed": false
   },
   "outputs": [
    {
     "data": {
      "text/plain": [
       "[('fb:m.0f3xg_',\n",
       "  'fb:symbols.namesake.named_after',\n",
       "  'trump ocean club international hotel and tower',\n",
       "  '1.0',\n",
       "  0.7708609818740425,\n",
       "  0.7708609818740425),\n",
       " ('fb:m.031n7n',\n",
       "  'fb:symbols.namesake.named_after',\n",
       "  'trump international hotel and tower',\n",
       "  '0.86',\n",
       "  0.7708609818740425,\n",
       "  0.6629404444116765),\n",
       " ('fb:m.05d9c4',\n",
       "  'fb:symbols.namesake.named_after',\n",
       "  'trump international hotel and tower',\n",
       "  '0.86',\n",
       "  0.7708609818740425,\n",
       "  0.6629404444116765),\n",
       " ('fb:m.07dwg4',\n",
       "  'fb:symbols.namesake.named_after',\n",
       "  'trump international hotel and tower , las vegas',\n",
       "  '0.75',\n",
       "  0.7708609818740425,\n",
       "  0.5781457364055319)]"
      ]
     },
     "execution_count": 214,
     "metadata": {},
     "output_type": "execute_result"
    }
   ],
   "source": [
    "id2answers['valid-1']"
   ]
  },
  {
   "cell_type": "markdown",
   "metadata": {},
   "source": [
    "### Results - retrieval rate\n",
    "\n",
    "The retrieval rate is 81.28% overall.\n",
    "At top = 1, the retrieval rate is 69.93%\n",
    "At top = 2, the retrieval rate is 76.14%\n",
    "At top = 3, the retrieval rate is 77.95%"
   ]
  },
  {
   "cell_type": "code",
   "execution_count": 215,
   "metadata": {
    "collapsed": false
   },
   "outputs": [
    {
     "data": {
      "text/plain": [
       "0.9955452436194896"
      ]
     },
     "execution_count": 215,
     "metadata": {},
     "output_type": "execute_result"
    }
   ],
   "source": [
    "found / len(valid_lineids)"
   ]
  },
  {
   "cell_type": "code",
   "execution_count": 216,
   "metadata": {
    "collapsed": false
   },
   "outputs": [
    {
     "data": {
      "text/plain": [
       "0.8128074245939675"
      ]
     },
     "execution_count": 216,
     "metadata": {},
     "output_type": "execute_result"
    }
   ],
   "source": [
    "retrieved / len(valid_lineids)"
   ]
  },
  {
   "cell_type": "code",
   "execution_count": 217,
   "metadata": {
    "collapsed": false
   },
   "outputs": [
    {
     "data": {
      "text/plain": [
       "0.6993039443155452"
      ]
     },
     "execution_count": 217,
     "metadata": {},
     "output_type": "execute_result"
    }
   ],
   "source": [
    "retrieved_top1 / len(valid_lineids)"
   ]
  },
  {
   "cell_type": "code",
   "execution_count": 218,
   "metadata": {
    "collapsed": false
   },
   "outputs": [
    {
     "data": {
      "text/plain": [
       "0.7614849187935034"
      ]
     },
     "execution_count": 218,
     "metadata": {},
     "output_type": "execute_result"
    }
   ],
   "source": [
    "retrieved_top2 / len(valid_lineids)"
   ]
  },
  {
   "cell_type": "code",
   "execution_count": 219,
   "metadata": {
    "collapsed": false
   },
   "outputs": [
    {
     "data": {
      "text/plain": [
       "0.7795823665893271"
      ]
     },
     "execution_count": 219,
     "metadata": {},
     "output_type": "execute_result"
    }
   ],
   "source": [
    "retrieved_top3 / len(valid_lineids)"
   ]
  },
  {
   "cell_type": "markdown",
   "metadata": {
    "collapsed": true
   },
   "source": [
    "### Inspecting the samples not retrieved at top = 1"
   ]
  },
  {
   "cell_type": "code",
   "execution_count": 220,
   "metadata": {
    "collapsed": false
   },
   "outputs": [],
   "source": [
    "def print_info(lineids):\n",
    "    for lineid in lineids:\n",
    "        print(\"Question: {}\".format(id2question[lineid][3]))\n",
    "        pp.pprint(id2answers[lineid])\n",
    "        print(\"-\" * 40)"
   ]
  },
  {
   "cell_type": "code",
   "execution_count": 222,
   "metadata": {
    "collapsed": false
   },
   "outputs": [
    {
     "data": {
      "text/plain": [
       "[('fb:m.0f3xg_',\n",
       "  'fb:symbols.namesake.named_after',\n",
       "  'trump ocean club international hotel and tower',\n",
       "  '1.0',\n",
       "  0.7708609818740425,\n",
       "  0.7708609818740425),\n",
       " ('fb:m.031n7n',\n",
       "  'fb:symbols.namesake.named_after',\n",
       "  'trump international hotel and tower',\n",
       "  '0.86',\n",
       "  0.7708609818740425,\n",
       "  0.6629404444116765),\n",
       " ('fb:m.05d9c4',\n",
       "  'fb:symbols.namesake.named_after',\n",
       "  'trump international hotel and tower',\n",
       "  '0.86',\n",
       "  0.7708609818740425,\n",
       "  0.6629404444116765),\n",
       " ('fb:m.07dwg4',\n",
       "  'fb:symbols.namesake.named_after',\n",
       "  'trump international hotel and tower , las vegas',\n",
       "  '0.75',\n",
       "  0.7708609818740425,\n",
       "  0.5781457364055319)]"
      ]
     },
     "execution_count": 222,
     "metadata": {},
     "output_type": "execute_result"
    }
   ],
   "source": [
    "id2answers['valid-1']"
   ]
  },
  {
   "cell_type": "markdown",
   "metadata": {},
   "source": [
    "### What mistakes are mostly made in top=1 position?"
   ]
  },
  {
   "cell_type": "code",
   "execution_count": 223,
   "metadata": {
    "collapsed": true
   },
   "outputs": [],
   "source": [
    "incorrect_both, incorrect_mid, incorrect_rel = 0, 0, 0\n",
    "for lineid in lineids_found2:\n",
    "    cand_answers = id2answers[lineid]\n",
    "    top_mid, top_rel, top_mid_name, _, _, _ = cand_answers[0]\n",
    "    right_mid, right_rel, right_mid_name, _, _, _ = cand_answers[1]\n",
    "    if top_mid != right_mid and top_rel != right_rel:\n",
    "        incorrect_both += 1\n",
    "    elif top_mid != right_mid:\n",
    "        incorrect_mid += 1\n",
    "    elif top_rel != right_rel:\n",
    "        incorrect_rel += 1    "
   ]
  },
  {
   "cell_type": "code",
   "execution_count": 224,
   "metadata": {
    "collapsed": false
   },
   "outputs": [
    {
     "data": {
      "text/plain": [
       "670"
      ]
     },
     "execution_count": 224,
     "metadata": {},
     "output_type": "execute_result"
    }
   ],
   "source": [
    "len(lineids_found2)"
   ]
  },
  {
   "cell_type": "code",
   "execution_count": 227,
   "metadata": {
    "collapsed": false
   },
   "outputs": [
    {
     "data": {
      "text/plain": [
       "8.507462686567164"
      ]
     },
     "execution_count": 227,
     "metadata": {},
     "output_type": "execute_result"
    }
   ],
   "source": [
    "incorrect_both / len(lineids_found2) * 100.0"
   ]
  },
  {
   "cell_type": "code",
   "execution_count": 228,
   "metadata": {
    "collapsed": false
   },
   "outputs": [
    {
     "data": {
      "text/plain": [
       "39.850746268656714"
      ]
     },
     "execution_count": 228,
     "metadata": {},
     "output_type": "execute_result"
    }
   ],
   "source": [
    "incorrect_rel / len(lineids_found2) * 100.0"
   ]
  },
  {
   "cell_type": "code",
   "execution_count": 229,
   "metadata": {
    "collapsed": false
   },
   "outputs": [
    {
     "data": {
      "text/plain": [
       "51.64179104477612"
      ]
     },
     "execution_count": 229,
     "metadata": {},
     "output_type": "execute_result"
    }
   ],
   "source": [
    "incorrect_mid / len(lineids_found2) * 100.0"
   ]
  },
  {
   "cell_type": "code",
   "execution_count": null,
   "metadata": {
    "collapsed": true
   },
   "outputs": [],
   "source": []
  }
 ],
 "metadata": {
  "kernelspec": {
   "display_name": "Python 3",
   "language": "python",
   "name": "python3"
  },
  "language_info": {
   "codemirror_mode": {
    "name": "ipython",
    "version": 3
   },
   "file_extension": ".py",
   "mimetype": "text/x-python",
   "name": "python",
   "nbconvert_exporter": "python",
   "pygments_lexer": "ipython3",
   "version": "3.6.0"
  }
 },
 "nbformat": 4,
 "nbformat_minor": 2
}
