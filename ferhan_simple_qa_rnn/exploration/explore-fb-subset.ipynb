{
 "cells": [
  {
   "cell_type": "code",
   "execution_count": 5,
   "metadata": {
    "collapsed": false
   },
   "outputs": [],
   "source": [
    "import os\n",
    "import numpy as np\n",
    "import pandas as pd\n",
    "import time\n",
    "import matplotlib.pyplot as plt"
   ]
  },
  {
   "cell_type": "code",
   "execution_count": 7,
   "metadata": {
    "collapsed": false
   },
   "outputs": [
    {
     "name": "stdout",
     "output_type": "stream",
     "text": [
      "time taken: 16.909093141555786s\n"
     ]
    }
   ],
   "source": [
    "dir_path = \"../data/SimpleQuestions_v2/freebase-subsets/\"\n",
    "data_path = os.path.join(dir_path, \"freebase-FB2M.txt\")\n",
    "\n",
    "start = time.time()\n",
    "df = pd.read_table(data_path, \"\\t\", header=None, names=[\"mid\", \"relation\", \"object\"])\n",
    "finish = time.time()\n",
    "print(\"time taken: {}s\".format(finish-start))"
   ]
  },
  {
   "cell_type": "code",
   "execution_count": null,
   "metadata": {
    "collapsed": true
   },
   "outputs": [],
   "source": [
    "print(df.describe())\n",
    "\n",
    "rel_counts = df['relation'].value_counts()\n",
    "print(rel_counts.describe())\n",
    "# print(rel_counts[rel_counts <= 10].describe())\n",
    "# print(rel_counts[rel_counts > 10].describe())\n",
    "# rel_counts.plot(logy=True)\n",
    "\n",
    "mid_counts = df['mid'].value_counts()\n",
    "print(mid_counts.describe())\n",
    "# print(mid_counts[mid_counts <= 10].describe())\n",
    "# print(mid_counts[mid_counts > 10].describe())\n",
    "# mid_counts.plot(logy=True)"
   ]
  }
 ],
 "metadata": {
  "kernelspec": {
   "display_name": "Python 3",
   "language": "python",
   "name": "python3"
  },
  "language_info": {
   "codemirror_mode": {
    "name": "ipython",
    "version": 3
   },
   "file_extension": ".py",
   "mimetype": "text/x-python",
   "name": "python",
   "nbconvert_exporter": "python",
   "pygments_lexer": "ipython3",
   "version": "3.6.0"
  }
 },
 "nbformat": 4,
 "nbformat_minor": 2
}
